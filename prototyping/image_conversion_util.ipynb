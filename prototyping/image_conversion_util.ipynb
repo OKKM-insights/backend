{
 "cells": [
  {
   "cell_type": "code",
   "execution_count": 5,
   "metadata": {},
   "outputs": [],
   "source": [
    "import os\n",
    "import argparse\n",
    "from PIL import Image"
   ]
  },
  {
   "cell_type": "code",
   "execution_count": 6,
   "metadata": {},
   "outputs": [
    {
     "name": "stdout",
     "output_type": "stream",
     "text": [
      "Converted composite2.tif -> ../imageDB/composite2.png\n",
      "Converted composite.tif -> ../imageDB/composite.png\n"
     ]
    }
   ],
   "source": [
    "\n",
    "def convert_tif_to_png(input_dir, output_dir):\n",
    "    if not os.path.exists(output_dir):\n",
    "        os.makedirs(output_dir)\n",
    "    \n",
    "    for filename in os.listdir(input_dir):\n",
    "        if filename.lower().endswith(('.tif', '.tiff')):\n",
    "            base_name = os.path.splitext(filename)[0]\n",
    "            input_path = os.path.join(input_dir, filename)\n",
    "            output_path = os.path.join(output_dir, base_name + '.png')\n",
    "            try:\n",
    "                with Image.open(input_path) as img:\n",
    "                    img.convert('RGBA').save(output_path, 'PNG')\n",
    "                print(f\"Converted {filename} -> {output_path}\")\n",
    "            except Exception as e:\n",
    "                print(f\"Failed to convert {filename}: {e}\")\n",
    "\n",
    "convert_tif_to_png('../imageDBraw', '../imageDB')"
   ]
  }
 ],
 "metadata": {
  "kernelspec": {
   "display_name": ".venv",
   "language": "python",
   "name": "python3"
  },
  "language_info": {
   "codemirror_mode": {
    "name": "ipython",
    "version": 3
   },
   "file_extension": ".py",
   "mimetype": "text/x-python",
   "name": "python",
   "nbconvert_exporter": "python",
   "pygments_lexer": "ipython3",
   "version": "3.11.8"
  }
 },
 "nbformat": 4,
 "nbformat_minor": 2
}
