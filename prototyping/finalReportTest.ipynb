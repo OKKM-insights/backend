{
 "cells": [
  {
   "cell_type": "code",
   "execution_count": 1,
   "metadata": {},
   "outputs": [],
   "source": [
    "import numpy as np"
   ]
  },
  {
   "cell_type": "code",
   "execution_count": 2,
   "metadata": {},
   "outputs": [],
   "source": [
    "ImageID = 64"
   ]
  },
  {
   "cell_type": "code",
   "execution_count": 3,
   "metadata": {},
   "outputs": [],
   "source": [
    "import sys\n",
    "sys.path.insert(1, '../services')\n"
   ]
  },
  {
   "cell_type": "code",
   "execution_count": null,
   "metadata": {},
   "outputs": [],
   "source": []
  },
  {
   "cell_type": "code",
   "execution_count": null,
   "metadata": {},
   "outputs": [],
   "source": [
    "import sys\n",
    "sys.path.insert(1, '../services')\n",
    "\n",
    "from ProjectDatabaseConnector import MYSQLProjectDatabaseConnector\n",
    "import matplotlib.pyplot as plt\n",
    "\n",
    "# Initialize the database connector\n",
    "db = MYSQLProjectDatabaseConnector()\n",
    "\n",
    "# Query to get the project containing image 64\n",
    "query = \"\"\"\n",
    "SELECT * FROM my_image_db.Projects WHERE projectId = 65 \n",
    "\"\"\"\n",
    "\n",
    "# Get the projects (this will also load the images)\n",
    "projects = db.get_projects(query)\n",
    "\n",
    "# Find image 64 in the project's images\n",
    "target_image = None\n",
    "for project in projects:\n",
    "    for image in project.images:\n",
    "            target_image = image\n",
    "            break\n",
    "    if target_image:\n",
    "        break\n",
    "\n",
    "if target_image:\n",
    "    # Display the image\n",
    "    plt.figure(figsize=(12, 12))\n",
    "    plt.imshow(target_image.image_data)\n",
    "    plt.title(f\"Image {target_image.ImageID}\")\n",
    "    plt.axis('off')\n",
    "    plt.show()\n",
    "else:\n",
    "    print(\"Image 64 not found in database\")\n",
    "\n",
    "if db and db.cnx:\n",
    "        db.cnx.dispose()"
   ]
  },
  {
   "cell_type": "code",
   "execution_count": null,
   "metadata": {},
   "outputs": [],
   "source": []
  },
  {
   "cell_type": "code",
   "execution_count": null,
   "metadata": {},
   "outputs": [],
   "source": []
  }
 ],
 "metadata": {
  "kernelspec": {
   "display_name": ".venv",
   "language": "python",
   "name": "python3"
  },
  "language_info": {
   "codemirror_mode": {
    "name": "ipython",
    "version": 3
   },
   "file_extension": ".py",
   "mimetype": "text/x-python",
   "name": "python",
   "nbconvert_exporter": "python",
   "pygments_lexer": "ipython3",
   "version": "3.11.8"
  }
 },
 "nbformat": 4,
 "nbformat_minor": 2
}
