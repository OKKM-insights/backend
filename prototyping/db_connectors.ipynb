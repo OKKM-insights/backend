{
 "cells": [
  {
   "cell_type": "code",
   "execution_count": 20,
   "metadata": {},
   "outputs": [
    {
     "name": "stdout",
     "output_type": "stream",
     "text": [
      "orbitwatch.clugm0820uni.us-east-1.rds.amazonaws.com\n"
     ]
    }
   ],
   "source": [
    "# add dotenv file !! here\n",
    "from dotenv import load_dotenv\n",
    "import mysql.connector\n",
    "import os\n",
    "\n",
    "load_dotenv()\n",
    "DB_HOSTNAME = os.getenv('DB_HOSTNAME')\n",
    "DB_USER = os.getenv('DB_USER')\n",
    "DB_PASSWORD = os.getenv('DB_PASSWORD')\n",
    "DB_PORT = os.getenv('DB_PORT')\n",
    "\n",
    "print(DB_HOSTNAME)\n",
    "\n",
    "def get_db_connection():\n",
    "    return mysql.connector.connect(\n",
    "        host=DB_HOSTNAME,\n",
    "        port=DB_PORT,\n",
    "        user=DB_USER,\n",
    "        password=DB_PASSWORD,\n",
    "        database='my_image_db'\n",
    "    )"
   ]
  },
  {
   "cell_type": "code",
   "execution_count": 24,
   "metadata": {},
   "outputs": [
    {
     "name": "stdout",
     "output_type": "stream",
     "text": [
      "(1, b'')\n",
      "(5, b'')\n"
     ]
    }
   ],
   "source": [
    "conn = get_db_connection()\n",
    "cursor = conn.cursor()\n",
    "\n",
    "select_query = \"SELECT * FROM images\"\n",
    "cursor.execute(select_query)\n",
    "\n",
    "row = cursor.fetchall()\n",
    "\n",
    "cursor.close()\n",
    "conn.close()\n",
    "\n",
    "for x in row:\n",
    "    if x:\n",
    "        image_data = x\n",
    "        print(x)\n",
    "    else:\n",
    "        jsonify({\"message\": \"Image not found\"}), 404"
   ]
  },
  {
   "cell_type": "code",
   "execution_count": null,
   "metadata": {},
   "outputs": [],
   "source": []
  }
 ],
 "metadata": {
  "kernelspec": {
   "display_name": ".venv",
   "language": "python",
   "name": "python3"
  },
  "language_info": {
   "codemirror_mode": {
    "name": "ipython",
    "version": 3
   },
   "file_extension": ".py",
   "mimetype": "text/x-python",
   "name": "python",
   "nbconvert_exporter": "python",
   "pygments_lexer": "ipython3",
   "version": "3.11.8"
  }
 },
 "nbformat": 4,
 "nbformat_minor": 2
}
